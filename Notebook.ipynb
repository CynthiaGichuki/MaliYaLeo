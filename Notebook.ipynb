{
 "cells": [
  {
   "cell_type": "markdown",
   "id": "7841d28e",
   "metadata": {},
   "source": [
    "## Modelling"
   ]
  },
  {
   "cell_type": "markdown",
   "id": "594fda65",
   "metadata": {},
   "source": [
    "# Feature Engineering\r\n",
    "\r\n",
    "We now engineer the dataset to prepare features for modeling.\r\n",
    "\r\n",
    "## Prediction Targets\r\n",
    "\r\n",
    "We need to predict:\r\n",
    "- **WholesaleUnitPrice**\r\n",
    "- **RetailUnitPrice** \r\n",
    "\r\n",
    "These will be treated as two separate targets.\r\n",
    "\r\n",
    "## Feature Engineering Process\r\n",
    "\r\n",
    "We will:\r\n",
    "\r\n",
    "1. **Create lag features** (to include past prices as predictors)\r\n",
    "2. **Encode categorical variables**\r\n",
    "3. **Drop irrelevant columns**\r\n",
    "4. **Split into feature matrix X and targets y_wholesale, y_retail**\r\n",
    "\r\n",
    "## Lag Features\r\n",
    "\r\n",
    "When working with time-series or sequential data, the current value of a variable often depends on its past values.\r\n",
    "\r\n",
    "For example:\r\n",
    "- The wholesale price of beans today may be influenced by the price yesterday\r\n",
    "- The retail price of tomatoes this week may depend on the wholesale price last week\r\n",
    "\r\n",
    "Lag features capture this dependency by adding past observations as input features for the current prediction.\r\n",
    "\r\n",
    "### How it Works\r\n",
    "\r\n",
    "A lag feature simply shifts the time-series backward by a specified number of time steps.\r\n",
    "\r\n",
    "**Example:**\r\n",
    "\r\n",
    "| Date       | Price |\r\n",
    "|------------|-------|\r\n",
    "| 2024-01-01 | 100   |\r\n",
    "| 2024-01-02 | 110   |\r\n",
    "| 2024-01-03 | 105   |\r\n",
    "\r\n",
    "If we create a lag-1 feature (Price_t-1), the dataset becomes:\r\n",
    "\r\n",
    "| Date       | Price | Price_t-1 |\r\n",
    "|------------|-------|-----------|\r\n",
    "| 2024-01-02 | 110   | 100       |\r\n",
    "| 2024-01-03 | 105   | 110       |\r\n",
    "\r\n",
    "### In This Project\r\n",
    "\r\n",
    "We created two lag features:\r\n",
    "- **Wholesale_t-1**: Previous wholesale price\r\n",
    "- **Retail_t-1**: Previous retail price\r\n",
    "\r\n",
    "These features help our models capture short-term dependencies in price movements, making predictions more accurate.\r\n",
    "\r\n",
    "## Target Transformation\r\n",
    "\r\n",
    "We will also apply **log transformation** to the targets since they are skewed. This helps:\r\n",
    "- Normalize the distribution\r\n",
    "- Reduce the impact of outliers\r\n",
    "- Improve model performance"
   ]
  },
  {
   "cell_type": "markdown",
   "id": "2094c0be",
   "metadata": {},
   "source": [
    "### BASELINE MODEL PART 1:RIDGE REGRESSION\n",
    "\n",
    "\n",
    "We begin our modeling with **Ridge Regression** as a baseline. Ridge helps address multicollinearity and penalizes high-magnitude coefficients to prevent overfitting, especially important in datasets with many features or one-hot encodings."
   ]
  },
  {
   "cell_type": "markdown",
   "id": "4ef81447",
   "metadata": {},
   "source": [
    "### Data Preparation for Modeling"
   ]
  },
  {
   "cell_type": "markdown",
   "id": "30f64974-98c9-4b53-a465-ec96d6f40586",
   "metadata": {},
   "source": [
    "Before training our model, we perform several preprocessing steps:\r\n",
    "\r\n",
    "- **Sorting and Lag Feature Engineering:**  \r\n",
    "  To capture temporal trends, we sort the dataset by date and group, then create lagged features (`Wholesale_t-1` and `Retail_t-1`) to feed past price information into the model."
   ]
  },
  {
   "cell_type": "code",
   "execution_count": 25,
   "id": "456828d9",
   "metadata": {},
   "outputs": [],
   "source": [
    "\n",
    "# Sort for lagging\n",
    "df_cleaned = df_clean.sort_values(by=[\"Commodity\", \"Market\", \"County\", \"Date\"])\n",
    "\n",
    "# Lag features\n",
    "df_cleaned[\"Wholesale_t-1\"] = df_cleaned.groupby([\"Commodity\", \"Market\", \"County\"])[\"WholesaleUnitPrice\"].shift(1)\n",
    "df_cleaned[\"Retail_t-1\"] = df_cleaned.groupby([\"Commodity\", \"Market\", \"County\"])[\"RetailUnitPrice\"].shift(1)\n",
    "df = df_cleaned.dropna()\n"
   ]
  },
  {
   "cell_type": "markdown",
   "id": "e497f567",
   "metadata": {},
   "source": [
    "### Outlier Removal, One-Hot Encoding, and Target Transformation\r\n",
    "We continue preparing the dataset by:\r\n",
    "\r\n",
    "- **Removing Extreme Outliers:**  \r\n",
    "  Cap the prices at the 1st and 99th percentiles to reduce skew caused by extreme values.\r\n",
    "\r\n",
    "- **One-Hot Encoding:**  \r\n",
    "  Convert categorical features (like Commodity and Market) into binary features to make them usable in the regression model.\r\n",
    "\r\n",
    "- **Log Transforming Targets:**  \r\n",
    "  Apply `log1p` to the wholesale and retail prices to stabilize variance and handle skewed distributions.s"
   ]
  },
  {
   "cell_type": "code",
   "execution_count": 26,
   "id": "0961dbac",
   "metadata": {},
   "outputs": [],
   "source": [
    "# Remove extreme outliers\n",
    "low_cap = 1\n",
    "high_cap_wholesale = df[\"WholesaleUnitPrice\"].quantile(0.99)\n",
    "high_cap_retail = df[\"RetailUnitPrice\"].quantile(0.99)\n",
    "df = df[(df[\"WholesaleUnitPrice\"] >= low_cap) & (df[\"RetailUnitPrice\"] >= low_cap)]\n",
    "df = df[(df[\"WholesaleUnitPrice\"] <= high_cap_wholesale) & (df[\"RetailUnitPrice\"] <= high_cap_retail)]\n",
    "\n",
    "\n",
    "# One-hot encode categoricals\n",
    "categoricals = [\"Commodity\", \"Classification\", \"County\", \"Market\", \"Month_name\", \"Day_Name\"]\n",
    "df_encoded = pd.get_dummies(df, columns=categoricals, drop_first=True)\n",
    "\n",
    "# Targets (log-transformed for stability)\n",
    "y_wholesale = np.log1p(df_encoded[\"WholesaleUnitPrice\"])\n",
    "y_retail = np.log1p(df_encoded[\"RetailUnitPrice\"])\n",
    "\n",
    "# Features \n",
    "drop_cols = [\"Date\", \"WholesaleUnitPrice\", \"RetailUnitPrice\", \"ReferencePrice\"]\n",
    "X = df_encoded.drop(columns=drop_cols)\n",
    "X_df = pd.DataFrame(X, index=df_encoded.index) \n"
   ]
  },
  {
   "cell_type": "markdown",
   "id": "300db25b-b3f2-4149-b60e-b25dc47b30bc",
   "metadata": {},
   "source": [
    "### Train-Test Split & Feature Scaling\n",
    "\n",
    "We split the data into training and testing sets (80/20) for both wholesale and retail price models.\n",
    "\n",
    "**Scaling**\n",
    "\n",
    " Since Ridge regression is sensitive to feature magnitudes, we apply **standard scaling** (`StandardScaler`) after the split to avoid data leakage"
   ]
  },
  {
   "cell_type": "code",
   "execution_count": 27,
   "id": "894bf1ec",
   "metadata": {},
   "outputs": [],
   "source": [
    "#  Train-Test Split (with index tracking)\n",
    "X_train_w, X_test_w, y_train_w, y_test_w = train_test_split(X_df, y_wholesale, test_size=0.2, random_state=42)\n",
    "X_train_r, X_test_r, y_train_r, y_test_r = train_test_split(X_df, y_retail, test_size=0.2, random_state=42)\n",
    "\n",
    "# Scale features\n",
    "scaler = StandardScaler()\n",
    "X_train_w_scaled = scaler.fit_transform(X_train_w)\n",
    "X_test_w_scaled = scaler.transform(X_test_w)\n",
    "X_train_r_scaled = scaler.fit_transform(X_train_r)\n",
    "X_test_r_scaled = scaler.transform(X_test_r)\n"
   ]
  },
  {
   "cell_type": "markdown",
   "id": "6a4090b7",
   "metadata": {},
   "source": [
    "### Hyperparameter Tuning with RidgeCV"
   ]
  },
  {
   "cell_type": "markdown",
   "id": "8013e06b-70d3-4dd3-83a0-6786ad791f18",
   "metadata": {},
   "source": [
    "We use **RidgeCV** to automatically select the best alpha (regularization strength) through cross-validation.\r\n",
    "\r\n",
    "- A range of alpha values (log-spaced from 0.001 to 1000) is tested.\r\n",
    "- The model fits the training data and selects the optimal value based on cross-validation performance."
   ]
  },
  {
   "cell_type": "code",
   "execution_count": 28,
   "id": "820e762a",
   "metadata": {},
   "outputs": [
    {
     "name": "stdout",
     "output_type": "stream",
     "text": [
      "Best alpha (Wholesale): 184.20699693267164\n",
      "Best alpha (Retail): 59.636233165946365\n"
     ]
    }
   ],
   "source": [
    "#  RidgeCV (Hyperparameter tuning)\n",
    "alphas = np.logspace(-3, 3, 50)\n",
    "\n",
    "ridge_cv_wholesale = RidgeCV(alphas=alphas, cv=5)\n",
    "ridge_cv_retail = RidgeCV(alphas=alphas, cv=5)\n",
    "\n",
    "ridge_cv_wholesale.fit(X_train_w_scaled, y_train_w)\n",
    "ridge_cv_retail.fit(X_train_r_scaled, y_train_r)\n",
    "\n",
    "print(f\"Best alpha (Wholesale): {ridge_cv_wholesale.alpha_}\")\n",
    "print(f\"Best alpha (Retail): {ridge_cv_retail.alpha_}\")\n",
    "\n",
    "# 4. Predictions (back to KES scale)\n",
    "y_pred_w = np.expm1(ridge_cv_wholesale.predict(X_test_w_scaled))\n",
    "y_pred_r = np.expm1(ridge_cv_retail.predict(X_test_r_scaled))\n",
    "y_test_w_orig = np.expm1(y_test_w)\n",
    "y_test_r_orig = np.expm1(y_test_r)\n"
   ]
  },
  {
   "cell_type": "markdown",
   "id": "76fd74a2",
   "metadata": {},
   "source": [
    "### Error analysis by county and commodity"
   ]
  },
  {
   "cell_type": "markdown",
   "id": "addb89d8-d78d-4f79-a4b6-64a3cf5b8d13",
   "metadata": {},
   "source": [
    "To gain a deeper understanding of our model’s prediction performance, we conduct an error analysis grouped by **Commodity** and **County**:\r\n",
    "\r\n",
    "- Create a results DataFrame comparing actual vs. predicted values for both wholesale and retail prices.\r\n",
    "- Join this with the original group labels (Commodity, County).\r\n",
    "- Compute the **prediction error** as the difference between predicted and actual values.\r\n",
    "- Aggregate the errors using `groupby()` to find the **average prediction error** per commodity and county.\r\n",
    "\r\n",
    "This helps identify where our model systematically **overestimates** or **underestimates** prices, key for guiding model improvements and flagging specific market dynamics."
   ]
  },
  {
   "cell_type": "code",
   "execution_count": 29,
   "id": "b5d7a869",
   "metadata": {},
   "outputs": [],
   "source": [
    "# Error Analysis (by Commodity & County)\n",
    "results_df = pd.DataFrame({\n",
    "    \"Actual_Wholesale\": y_test_w_orig,\n",
    "    \"Pred_Wholesale\": y_pred_w,\n",
    "    \"Actual_Retail\": y_test_r_orig,\n",
    "    \"Pred_Retail\": y_pred_r\n",
    "}, index=X_test_w.index)\n",
    "\n",
    "# Join original group labels\n",
    "results_df = results_df.join(df[[\"Commodity\", \"County\"]])\n",
    "\n",
    "# Compute errors\n",
    "results_df[\"Wholesale_Error\"] = results_df[\"Pred_Wholesale\"] - results_df[\"Actual_Wholesale\"]\n",
    "results_df[\"Retail_Error\"] = results_df[\"Pred_Retail\"] - results_df[\"Actual_Retail\"]\n",
    "\n",
    "# Summarize by group\n",
    "error_summary = results_df.groupby([\"Commodity\", \"County\"])[[\"Wholesale_Error\", \"Retail_Error\"]].mean()\n"
   ]
  },
  {
   "cell_type": "markdown",
   "id": "1eeb09be-314a-428b-9882-ad1e47efa79c",
   "metadata": {},
   "source": [
    "### Model Evaluation: Metrics\n",
    "\r",
    "We assess model performance using:\r\n",
    "\r\n",
    "- **Mean Squared Error (MSE)** – Measures average squared error.\r\n",
    "- **R² Score** – Indicates the proportion of variance explained by the model.\r\n",
    "\n"
   ]
  },
  {
   "cell_type": "code",
   "execution_count": 30,
   "id": "df945f0e",
   "metadata": {},
   "outputs": [
    {
     "name": "stdout",
     "output_type": "stream",
     "text": [
      "Wholesale MSE: 500.84, R²: 0.7850\n",
      "Retail MSE: 704.32, R²: 0.7790\n"
     ]
    }
   ],
   "source": [
    "# Metrics\n",
    "mse_w = mean_squared_error(y_test_w_orig, y_pred_w)\n",
    "mse_r = mean_squared_error(y_test_r_orig, y_pred_r)\n",
    "r2_w = r2_score(y_test_w_orig, y_pred_w)\n",
    "r2_r = r2_score(y_test_r_orig, y_pred_r)\n",
    "\n",
    "print(f\"Wholesale MSE: {mse_w:.2f}, R²: {r2_w:.4f}\")\n",
    "print(f\"Retail MSE: {mse_r:.2f}, R²: {r2_r:.4f}\")\n"
   ]
  },
  {
   "cell_type": "markdown",
   "id": "d76855d8-7978-41eb-a952-984c52ae98c4",
   "metadata": {},
   "source": [
    "\r\n",
    "These are strong baseline results, suggesting our model captures a significant portion of the price variation.\r\n"
   ]
  },
  {
   "cell_type": "markdown",
   "id": "1c48a6fc-3f58-4c1f-b8c7-6692e40cb63e",
   "metadata": {},
   "source": [
    "### Identifying Top Overestimations and Underestimations\r\n",
    "We sort the grouped error values to reveal where the model's predictions deviate the most:\r\n",
    "\r\n",
    "- **Overestimations:** Where predicted prices are significantly higher than actual prices.\r\n",
    "- **Underestimations:** Where predicted prices are significantly lower than actual prices.\r\n",
    "\r\n",
    "We display the **top 10** cases for both wholesale and retail price predictions.\r\n",
    "\r\n",
    "These insights help pinpoint areas where price volatility, insufficient features, or market anomalies may be impacting model accuracy, and where further refinement (e.g., location-specific adjustments or additional features) may be neceary. \n",
    "essary.\r\n",
    "ection).\r\n"
   ]
  },
  {
   "cell_type": "code",
   "execution_count": 31,
   "id": "a75c58da",
   "metadata": {},
   "outputs": [
    {
     "name": "stdout",
     "output_type": "stream",
     "text": [
      "\n",
      "Top 10 Overestimations (Wholesale):\n",
      "                          Wholesale_Error  Retail_Error\n",
      "Commodity   County                                     \n",
      "Rice        Kisii               94.840987    286.435716\n",
      "Beans       Garissa             88.050464     94.206223\n",
      "Wheat       Siaya               60.398434    152.354299\n",
      "Rice        Kilifi              59.096366     58.824800\n",
      "Maize Flour Kakamega            48.502019     49.355801\n",
      "            Nandi               43.011909     40.709170\n",
      "Beans       Tana-River          32.043559     67.526660\n",
      "Rice        Taita-Taveta        31.056484     14.931256\n",
      "            Meru                25.479767     14.750780\n",
      "            Tana-River          23.547252     16.912627\n",
      "\n",
      "Top 10 Overestimations (Retail):\n",
      "                        Wholesale_Error  Retail_Error\n",
      "Commodity   County                                   \n",
      "Rice        Kisii             94.840987    286.435716\n",
      "Wheat       Siaya             60.398434    152.354299\n",
      "Beans       Garissa           88.050464     94.206223\n",
      "            Tana-River        32.043559     67.526660\n",
      "Rice        Kilifi            59.096366     58.824800\n",
      "Maize Flour Kakamega          48.502019     49.355801\n",
      "Beans       Homa-Bay          15.131159     47.595729\n",
      "Maize Flour Nandi             43.011909     40.709170\n",
      "Dry Onions  Migori           -22.917206     33.917155\n",
      "Beans       Busia             -4.066386     29.587761\n"
     ]
    }
   ],
   "source": [
    "# Sort and display top overestimations\n",
    "print(\"\\nTop 10 Overestimations (Wholesale):\")\n",
    "print(error_summary.sort_values(by=\"Wholesale_Error\", ascending=False).head(10))\n",
    "\n",
    "print(\"\\nTop 10 Overestimations (Retail):\")\n",
    "print(error_summary.sort_values(by=\"Retail_Error\", ascending=False).head(10))\n"
   ]
  },
  {
   "cell_type": "code",
   "execution_count": 32,
   "id": "b0ff4d7f",
   "metadata": {},
   "outputs": [
    {
     "name": "stdout",
     "output_type": "stream",
     "text": [
      "\n",
      "Top 10 Underestimations (Wholesale):\n",
      "                          Wholesale_Error  Retail_Error\n",
      "Commodity  County                                      \n",
      "Tea        Uasin-Gishu         -45.316470    -46.573909\n",
      "Avocado    Lamu                -41.620867    -42.042864\n",
      "Wheat      Taita-Taveta        -41.093198    -25.526005\n",
      "Tomatoes   Tana-River          -38.237687    -26.135669\n",
      "Avocado    Tana-River          -32.896199     -7.623530\n",
      "Carrots    Kisii               -29.563084    -23.039765\n",
      "Avocado    Kisumu              -29.521318    -49.715618\n",
      "Rice       Tharaka-Nithi       -27.952917    -25.125234\n",
      "Dry Onions Nyamira             -27.265990    -38.688600\n",
      "Tomatoes   Trans-Nzoia         -25.316067    -24.796633\n",
      "\n",
      "Top 10 Underestimations (Retail):\n",
      "                         Wholesale_Error  Retail_Error\n",
      "Commodity   County                                    \n",
      "Avocado     Kisumu            -29.521318    -49.715618\n",
      "Tea         Uasin-Gishu       -45.316470    -46.573909\n",
      "Mangoes     Laikipia           -0.584866    -43.175354\n",
      "Avocado     Lamu              -41.620867    -42.042864\n",
      "Dry Maize   Nyeri              -0.124245    -40.813317\n",
      "Dry Onions  Nyamira           -27.265990    -38.688600\n",
      "Carrots     Migori             -9.262245    -36.759766\n",
      "Mangoes     Kakamega          -13.512728    -36.672110\n",
      "Avocado     Embu              -19.332675    -36.420007\n",
      "Maize Flour Kitui             -11.418479    -34.779079\n"
     ]
    }
   ],
   "source": [
    "\n",
    "# Sort and display top underestimations\n",
    "print(\"\\nTop 10 Underestimations (Wholesale):\")\n",
    "print(error_summary.sort_values(by=\"Wholesale_Error\", ascending=True).head(10))\n",
    "\n",
    "print(\"\\nTop 10 Underestimations (Retail):\")\n",
    "print(error_summary.sort_values(by=\"Retail_Error\", ascending=True).head(10))\n"
   ]
  }
 ],
 "metadata": {
  "kernelspec": {
   "display_name": "Python 3 (ipykernel)",
   "language": "python",
   "name": "python3"
  },
  "language_info": {
   "codemirror_mode": {
    "name": "ipython",
    "version": 3
   },
   "file_extension": ".py",
   "mimetype": "text/x-python",
   "name": "python",
   "nbconvert_exporter": "python",
   "pygments_lexer": "ipython3",
   "version": "3.11.7"
  }
 },
 "nbformat": 4,
 "nbformat_minor": 5
}
